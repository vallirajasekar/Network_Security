{
 "cells": [
  {
   "cell_type": "code",
   "execution_count": 3,
   "metadata": {},
   "outputs": [
    {
     "name": "stdout",
     "output_type": "stream",
     "text": [
      "10\n",
      "20\n"
     ]
    }
   ],
   "source": [
    "class MyClass:\n",
    "    def __init__(self, value):\n",
    "        # 'self' allows this value to be stored as an instance attribute\n",
    "        self.value = value\n",
    "\n",
    "    def display_value(self):\n",
    "        # 'self' is used to access the instance attribute 'value'\n",
    "        print(self.value)\n",
    "\n",
    "# Creating an instance of MyClass\n",
    "obj1 = MyClass(10)\n",
    "obj2 = MyClass(20)\n",
    "\n",
    "# Calling the display_value method\n",
    "obj1.display_value()  # Output: 10\n",
    "obj2.display_value()  # Output: 20\n"
   ]
  },
  {
   "cell_type": "code",
   "execution_count": 4,
   "metadata": {},
   "outputs": [
    {
     "ename": "TypeError",
     "evalue": "MyClass() takes no arguments",
     "output_type": "error",
     "traceback": [
      "\u001b[0;31m---------------------------------------------------------------------------\u001b[0m",
      "\u001b[0;31mTypeError\u001b[0m                                 Traceback (most recent call last)",
      "Cell \u001b[0;32mIn[4], line 11\u001b[0m\n\u001b[1;32m      8\u001b[0m         \u001b[38;5;28mprint\u001b[39m(\u001b[38;5;28mself\u001b[39m\u001b[38;5;241m.\u001b[39mvalue)\n\u001b[1;32m     10\u001b[0m \u001b[38;5;66;03m# Creating an instance of MyClass\u001b[39;00m\n\u001b[0;32m---> 11\u001b[0m obj1 \u001b[38;5;241m=\u001b[39m \u001b[43mMyClass\u001b[49m\u001b[43m(\u001b[49m\u001b[38;5;241;43m10\u001b[39;49m\u001b[43m)\u001b[49m\n\u001b[1;32m     12\u001b[0m obj2 \u001b[38;5;241m=\u001b[39m MyClass(\u001b[38;5;241m20\u001b[39m)\n\u001b[1;32m     14\u001b[0m \u001b[38;5;66;03m# Calling the display_value method\u001b[39;00m\n",
      "\u001b[0;31mTypeError\u001b[0m: MyClass() takes no arguments"
     ]
    }
   ],
   "source": [
    "class MyClass:\n",
    "    # def __init__(self, value):\n",
    "    #     # 'self' allows this value to be stored as an instance attribute\n",
    "    #     self.value = value\n",
    "\n",
    "    def display_value(self):\n",
    "        # 'self' is used to access the instance attribute 'value'\n",
    "        print(self.value)\n",
    "\n",
    "# Creating an instance of MyClass\n",
    "obj1 = MyClass(10)\n",
    "obj2 = MyClass(20)\n",
    "\n",
    "# Calling the display_value method\n",
    "obj1.display_value()  # Output: 10\n",
    "obj2.display_value()  # Output: 20"
   ]
  },
  {
   "cell_type": "code",
   "execution_count": null,
   "metadata": {},
   "outputs": [],
   "source": []
  }
 ],
 "metadata": {
  "kernelspec": {
   "display_name": "Python 3",
   "language": "python",
   "name": "python3"
  },
  "language_info": {
   "codemirror_mode": {
    "name": "ipython",
    "version": 3
   },
   "file_extension": ".py",
   "mimetype": "text/x-python",
   "name": "python",
   "nbconvert_exporter": "python",
   "pygments_lexer": "ipython3",
   "version": "3.10.14"
  }
 },
 "nbformat": 4,
 "nbformat_minor": 2
}
